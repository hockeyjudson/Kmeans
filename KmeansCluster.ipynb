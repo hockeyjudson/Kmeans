{
 "cells": [
  {
   "cell_type": "code",
   "metadata": {
    "collapsed": true
   },
   "outputs": [],
   "source": [
    "#new centroid creation\n",
    "#argument type\n",
    "#datasets:list\n",
    "#labels:list\n",
    "def get_centroids(datasets,labels):\n",
    "    sl=list(set(labels))\n",
    "    fx=[[]for _ in range(len(sl))]\n",
    "    fa=[[]for _ in range(len(sl))]\n",
    "    fz=[]\n",
    "    for i in range(len(labels)):\n",
    "        sm=sl.index(labels[i])\n",
    "        fx[sm].append(datasets[i])\n",
    "    for i in range(len(sl)):\n",
    "        fz.append(zip(*fx[i]))\n",
    "    for i in range(len(sl)):\n",
    "        for fj in range(len(fz[i])):\n",
    "            fa[i].append(sum(fz[i][fj])/len(fz[i][fj]))\n",
    "    return fa"
   ]
  },
  {
   "cell_type": "code",
   "metadata": {
    "collapsed": true
   },
   "outputs": [],
   "source": [
    "#euclidean distance for n dimensional values\n",
    "#argument type\n",
    "#x:list(supports only integer elments)\n",
    "#y:list(supports only integer elments)\n",
    "def euclid_dist(x,y):\n",
    "    import math\n",
    "    dist = [(c- d)**2 for c, d in zip(x, y)]\n",
    "    dist = math.sqrt(sum(dist))\n",
    "    return dist"
   ]
  },
  {
   "cell_type": "code",
   "metadata": {},
   "source": [
    "# random centrid Initilization using triangular distribution method\n",
    "#argument type\n",
    "#datasets:list\n",
    "#k:integer(number of clusters)\n",
    "def init_centroid(datasets,k):\n",
    "    import random\n",
    "    skc=zip(*datasets)\n",
    "    smu=[[]for _ in range(len(skc))]\n",
    "    smt=[[]for _ in range(int(k))]\n",
    "    for i in range(len(skc)):\n",
    "        smu[i].append(min(skc[i]))\n",
    "        smu[i].append(max(skc[i]))\n",
    "        smu[i].append(sum(skc[i])/len(skc[i]))\n",
    "    for i  in range(int(k)):\n",
    "        for j in range(len(skc)):\n",
    "            for k in range(len(smu)):\n",
    "                mini=smu[j][0]\n",
    "                maxi=smu[j][1]\n",
    "                mean=smu[j][2]\n",
    "            smt[i].append(random.triangular(mini,maxi,mean))\n",
    "    return smt"
   ]
  },
  {
   "cell_type": "code",
   "metadata": {},
   "source": [
    "# Label assignment\n",
    "#argument type\n",
    "#datasets:list\n",
    "#centroids:list\n",
    "def get_labels(datasets,centroids):\n",
    "    k=len(centroids)\n",
    "    l=[]\n",
    "    lst=[[]for _ in range(len(centroids))]\n",
    "    label=[]\n",
    "    for i in range(len(centroids)):\n",
    "        for j in datasets:\n",
    "            lst[i].append(euclid_dist(j,centroids[i]))\n",
    "    l=zip(*lst)\n",
    "    for i in l:\n",
    "        label.append(i.index(min(i)))\n",
    "    return label"
   ]
  },
  {
   "cell_type": "code",
   "metadata": {},
   "source": [
    "# kmeans algo core part,'k' is number of clusters and 'm' is the number of iterations\n",
    "#argument type\n",
    "#datasets:list\n",
    "#initcentroids:list\n",
    "#k:integer(number of cluster need to be formed)\n",
    "#m:integer(number of iterations)\n",
    "\n",
    "def kmeans(datasets,initcentroids,k,m):\n",
    "    datasets=str_float_conv(datasets)\n",
    "    num_features=len(datasets[0])\n",
    "    if initcentroids == None:\n",
    "        initcentroids=init_centroid(str_float_conv(datasets),k)\n",
    "        centroids=initcentroids\n",
    "    else:    \n",
    "        centroids=initcentroids\n",
    "    iteration=0\n",
    "    labels=None\n",
    "    old_centroids=None\n",
    "    while ((old_centroids!=centroids)and(m>iteration)):\n",
    "        old_centroids=centroids\n",
    "        iteration+=1\n",
    "        labels=get_labels(datasets,centroids)\n",
    "        centroids=get_centroids(datasets,labels)\n",
    "        print \"At iteration {0}:centroids:{1}\".format(iteration,centroids)\n",
    "        print \"###\"*40\n",
    "    print \"###\"*40\n",
    "    print \"SUMMARY of kmeans clustering\"\n",
    "    print \"Initial centroids :{0}\".format(initcentroids)\n",
    "    print \"Final centroids   :{0}\".format(centroids)\n",
    "    print \"Number of clusters formed: {0} and labels set: {1}\".format(len(set(labels)),set(labels))\n",
    "    print \"Assigned labels: {0}\".format(labels)\n",
    "    print \"###\"*40\n",
    "    return centroids,labels"
   ]
  },
  {
   "cell_type": "code",
   "metadata": {},
   "source": [
    "# the below function convert string values into float values in datasets\n",
    "#argument type datasets:list\n",
    "def str_float_conv(datasets):\n",
    "    l=len(datasets)\n",
    "    a=[]\n",
    "    for i in range(l):\n",
    "        a.append([float(k) for k in datasets[i]] )\n",
    "    return a"
   ]
  },
  {
   "cell_type": "code",
   "metadata": {},
   "source": [
    "# sample code execution of kmeans clustering algorithm\n",
    "#dataset reader\n",
    "import csv\n",
    "readCSV=None\n",
    "j=[]\n",
    "with open('iris.data') as csvfile:\n",
    "    readCSV = csv.reader(csvfile, delimiter=\",\")\n",
    "    for i in readCSV:\n",
    "       j.append(i)\n",
    "#converting string to float values \n",
    "datasets=str_float_conv(j)\n",
    "k=4\n",
    "#centroid intilization using triangular distribution\n",
    "centroids=init_centroid(datasets,k)\n",
    "print kmeans(datasets,centroids,k,30)"
   ]
  }
 ],
 "metadata": {
  "kernelspec": {
   "display_name": "Python 2",
   "language": "python",
   "name": "python2"
  },
  "language_info": {
   "codemirror_mode": {
    "name": "ipython",
    "version": 2
   },
   "file_extension": ".py",
   "mimetype": "text/x-python",
   "name": "python",
   "nbconvert_exporter": "python",
   "pygments_lexer": "ipython2",
   "version": "2.7.13"
  }
 },
 "nbformat": 4,
 "nbformat_minor": 0
}
